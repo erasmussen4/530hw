{
 "cells": [
  {
   "cell_type": "markdown",
   "metadata": {},
   "source": [
    "### 530 HW6- Functions \n",
    "Emma Rasmussen \n",
    "\n",
    "#### Problem 1- Expanding and Interpolating Functions \n",
    "##### Parts a & b"
   ]
  },
  {
   "cell_type": "code",
   "execution_count": 63,
   "metadata": {},
   "outputs": [
    {
     "name": "stdout",
     "output_type": "stream",
     "text": [
      "The rmse for N=5 was: 2.5343073519271746\n",
      "The time it took for N=5 was: 14.362376928329468s\n",
      "The rmse for interpolation for N=5 was: 0.9997089327860059\n",
      "The time it took for interpolation for N=5 was: 9.337021827697754s\n"
     ]
    }
   ],
   "source": [
    "import numpy as np\n",
    "import time\n",
    "\n",
    "def TaylorSin(x, N):\n",
    "    sinval = 0\n",
    "    for i in range(N):\n",
    "        term = ((-1)**(i+2))*(x**(2*i + 1)) / np.math.factorial(2*i + 1)\n",
    "        sinval += term\n",
    "\n",
    "    return sinval\n",
    "\n",
    "def RMSE(act, pred):\n",
    "    rmse = np.sqrt(np.mean((np.subtract(act,pred))**2))\n",
    "\n",
    "    return rmse\n",
    "\n",
    "def Interp(x,xvals,yvals):\n",
    "    # np.random.seed(27)\n",
    "    i = np.searchsorted(xvals,x)\n",
    "    if i == 0:\n",
    "        return yvals[0]\n",
    "    elif i == len(xvals):\n",
    "        return yvals[-1]\n",
    "    x0,x1 = xvals[i-1],xvals[i]\n",
    "    y0,y1 = yvals[i-1],yvals[i]\n",
    "    interpval = y0 +(y1 - y0)*(x - x0)/(x1 - x0)\n",
    "\n",
    "    return interpval\n",
    "\n",
    "def AccSpeed(N):\n",
    "    #The following line if we want the same random vector every time\n",
    "    np.random.seed(27)\n",
    "    xvals = np.random.uniform(0,2*np.pi,10**6)\n",
    "    xn = np.linspace(0,2*np.pi, 10**6)\n",
    "    yvals = np.sin(xn)\n",
    "    apprxvec = []\n",
    "    actualvec = []\n",
    "    apprxveci = []\n",
    "    actualveci = []\n",
    "\n",
    "    # for part a\n",
    "    st = time.time()\n",
    "    for i in range(len(xvals)):\n",
    "        apprx = TaylorSin(xvals[i], N)\n",
    "        act = np.sin(xvals[i])\n",
    "        apprxvec.append(apprx)\n",
    "        actualvec.append(act)\n",
    "    et = time.time()\n",
    "    tt = et - st \n",
    "\n",
    "    # for part b\n",
    "    sti = time.time()\n",
    "    for i in range(len(xn)):\n",
    "        apprx = Interp(xvals[i],xn, yvals)\n",
    "        act = yvals[i]\n",
    "        apprxveci.append(apprx)\n",
    "        actualveci.append(act)\n",
    "    eti = time.time()\n",
    "    tti = eti - sti \n",
    "    rmse = RMSE(apprxvec, actualvec)\n",
    "    rmsei = RMSE(apprxveci, actualveci)\n",
    "\n",
    "    #return rmse, tt\n",
    "\n",
    "    print(f'The rmse for N={N} was: {rmse}')\n",
    "    print(f'The time it took for N={N} was: {tt}s')\n",
    "\n",
    "    print(f'The rmse for interpolation for N={N} was: {rmsei}')\n",
    "    print(f'The time it took for interpolation for N={N} was: {tti}s')\n",
    "\n",
    "#Testing for different N\n",
    "AccSpeed(5)\n",
    "#AccSpeed(7)\n",
    "#AccSpeed(9)"
   ]
  },
  {
   "cell_type": "markdown",
   "metadata": {},
   "source": [
    "#### Problem 2\n",
    "##### Part a"
   ]
  },
  {
   "cell_type": "code",
   "execution_count": 76,
   "metadata": {},
   "outputs": [
    {
     "name": "stdout",
     "output_type": "stream",
     "text": [
      "The difference between i1 and the actual value is:-8.881784197001252e-16\n",
      "The difference between i2 and the actual value is:1.1102230246251565e-16\n",
      "The difference between i3 and the actual value is:-2.5360991084966145e-10\n"
     ]
    }
   ],
   "source": [
    "from scipy.integrate import quad\n",
    "\n",
    "#For part a, the blackbox python function\n",
    "def f(x):\n",
    "    return np.exp(-np.cos(x))\n",
    "\n",
    "def g(x):\n",
    "    if -1 <= x <= 1:\n",
    "        return f(x)\n",
    "    else: \n",
    "        return 0\n",
    "\n",
    "i1 = 7.9549265210128452745132196653294\n",
    "i23 = .87070265620795901020832433774759\n",
    "val1,_ = quad(f, -np.pi, np.pi, limit=100)\n",
    "val2,_ = quad(f, -1, 1, limit=100)\n",
    "val3,_ = quad(g, -np.pi, np.pi, limit=100)\n",
    "print(f'The difference between i1 and the actual value is:{i1-val1}')\n",
    "print(f'The difference between i2 and the actual value is:{i23-val2}')\n",
    "print(f'The difference between i3 and the actual value is:{i23-val3}')"
   ]
  },
  {
   "cell_type": "markdown",
   "metadata": {},
   "source": [
    "According to python documentation, this function is using a different series of functions for definite vs indefinite integrals. I will only descirbe the definite since that's what we used. It uses a Clenshaw-Curtis method. First, it computes the Chebyshev moments, then, it makes an integer array with the length of whatever you defined the limit as (I did 100). Then, it makes a subinterval for each moment. Then, it makes a rank 2 array with the moments, which it passes on to an integration by using the moments and subdivided array. \n",
    "\n",
    "#### Part b"
   ]
  },
  {
   "cell_type": "code",
   "execution_count": 77,
   "metadata": {},
   "outputs": [
    {
     "data": {
      "text/plain": [
       "[]"
      ]
     },
     "execution_count": 77,
     "metadata": {},
     "output_type": "execute_result"
    },
    {
     "data": {
      "image/png": "[encoded data removed]",
      "text/plain": [
       "<Figure size 432x288 with 1 Axes>"
      ]
     },
     "metadata": {
      "needs_background": "light"
     },
     "output_type": "display_data"
    }
   ],
   "source": [
    "import matplotlib.pyplot as plt\n",
    "\n",
    "def Trap(func, lower, upper, N):\n",
    "    b = upper\n",
    "    a = lower \n",
    "    h = (b - a)/N\n",
    "    val = 0 \n",
    "    for i in range(N + 1):\n",
    "        if i == 0 or i ==N:\n",
    "            val += .5*func(a + i*h)\n",
    "        else:\n",
    "            val += func(a + i*h)\n",
    "    final = h*val\n",
    "\n",
    "    return final,h\n",
    "\n",
    "def Plots(Nvec, Errvec, I):\n",
    "    # plt.figure()\n",
    "    plt.loglog(Nvec,Errvec)\n",
    "    plt.title(f'h vs Err for i{I}')\n",
    "    plt.xlabel('h')\n",
    "    plt.ylabel('Err')\n",
    "    return plt.plot()\n",
    "  \n",
    "N = [2**i for i in range(11)]\n",
    "\n",
    "err1vec = []\n",
    "err2vec = []\n",
    "err3vec = []\n",
    "h1vec = []\n",
    "\n",
    "for j in range(len(N)):\n",
    "    val1, h1 = Trap(f, -np.pi, np.pi, N[j])\n",
    "    val2, h2 = Trap(f, -1, 1, N[j])\n",
    "    val3, h3 = Trap(g, -np.pi, np.pi, N[j])\n",
    "    err1 = abs(i1 - val1) \n",
    "    err1vec.append(err1)\n",
    "    h1vec.append(h1)\n",
    "    err2 = abs(i23 - val2)\n",
    "    err2vec.append(err2)\n",
    "    err3 = abs(i23 - val3)\n",
    "    err3vec.append(err3)\n",
    " \n",
    "Plots(h1vec, err1vec, 1)\n",
    "Plots(h1vec, err2vec, 2)\n",
    "Plots(h1vec, err3vec, 3)"
   ]
  },
  {
   "cell_type": "markdown",
   "metadata": {},
   "source": [
    "### Problem 3\n",
    "#### Part a\n",
    "The optimal abcissas are the points that are the roots of the highest order legendre polynomials. The weights are chosen so that the integral over the polynomials is exact. In other words, you want the weight to be orthogonal to the function. For this integral, we could calculate them like so: "
   ]
  },
  {
   "cell_type": "code",
   "execution_count": 8,
   "metadata": {},
   "outputs": [
    {
     "name": "stdout",
     "output_type": "stream",
     "text": [
      "The optimal abscissas are:[0.14737235 0.72497071 1.57079633 2.41662194 2.9942203 ]\n",
      "The optimal weights are:[1.94296021 2.32262448 2.4644049  2.32262448 1.94296021]\n"
     ]
    }
   ],
   "source": [
    "from scipy.special import roots_legendre\n",
    "\n",
    "def OptAW(N):\n",
    "\n",
    "    absc, weight = roots_legendre(N)\n",
    "\n",
    "    optabsc = np.pi/2*(1 + absc)\n",
    "    optweight = np.pi/2*(1 + weight)\n",
    "\n",
    "    print(f'The optimal abscissas are:{optabsc}')\n",
    "    print(f'The optimal weights are:{optweight}')\n",
    "\n",
    "OptAW(5)"
   ]
  },
  {
   "cell_type": "markdown",
   "metadata": {},
   "source": [
    "#### Part b"
   ]
  },
  {
   "cell_type": "code",
   "execution_count": 11,
   "metadata": {},
   "outputs": [
    {
     "name": "stdout",
     "output_type": "stream",
     "text": [
      "The exact value is:2.0943951023931953\n",
      "The approximated value is:2.0943951023931904\n"
     ]
    }
   ],
   "source": [
    "def fphi(phi):\n",
    "    return np.sin(phi)**2\n",
    "\n",
    "def ftheta(theta):\n",
    "    return (theta)**2\n",
    "\n",
    "def Trapphi(N):\n",
    "    h = 2*np.pi/N\n",
    "    phivals = np.linspace(0, 2*np.pi, N+1)\n",
    "    phiint = np.sum(0.5 * h * (fphi(phivals[:-1]) + fphi(phivals[1:])))\n",
    "\n",
    "    return phiint\n",
    "\n",
    "def Sphere(Ncos, Nphi):\n",
    "    rcos, wcos = roots_legendre(Ncos)\n",
    "    intsum = 0 \n",
    "    for i in range(Ncos):\n",
    "        costheta = rcos[i]\n",
    "        costhetaw = wcos[i]\n",
    "        intsum += costhetaw*ftheta(costheta)\n",
    "    intsum *= Trapphi(Nphi)\n",
    "\n",
    "    return intsum\n",
    "\n",
    "exact = 2*np.pi/3\n",
    "ncos = 10\n",
    "nphi = 100\n",
    "\n",
    "apprx = Sphere(ncos, nphi)\n",
    "print(f'The exact value is:{exact}')\n",
    "print(f'The approximated value is:{apprx}')"
   ]
  },
  {
   "cell_type": "markdown",
   "metadata": {},
   "source": [
    "The convergence rate can change with the number of points we are using for theta and phi. If we have more points, the convergence rate will increase because we'll get a more accurate result. \n",
    "\n",
    "### Problem 4 "
   ]
  },
  {
   "cell_type": "code",
   "execution_count": 61,
   "metadata": {},
   "outputs": [
    {
     "name": "stdout",
     "output_type": "stream",
     "text": [
      "The number of terms needed for defined convergence was:2500000\n",
      "The number of terms needed for defined convergence for Aitkens process was:85\n"
     ]
    }
   ],
   "source": [
    "def Sum(n):\n",
    "    sumval = 0\n",
    "    exact = np.pi/4\n",
    "    error = 10**(-7)\n",
    "    \n",
    "    for j in range(n):\n",
    "        val = (-1)**j/(2*j + 1)\n",
    "        sumval += val\n",
    "        dif = abs(exact - sumval)\n",
    "        reldif = abs(dif/exact)\n",
    "     \n",
    "        if dif <= error or reldif <= error:\n",
    "            print(f'The number of terms needed for defined convergence was:{j}')\n",
    "            return sumval\n",
    "\n",
    "    return sumval\n",
    "\n",
    "def AitkenSum(n):\n",
    "    exact = np.pi/4\n",
    "    error = 10**(-7)\n",
    "    for j in range(n - 2):\n",
    "        Sn = Sum(j)\n",
    "        Sn1 = Sum(j+1)\n",
    "        Sn2 = Sum(j+2)\n",
    "        combo = ((Sn1 - Sn)**2/(Sn2 - 2*Sn1 + Sn))\n",
    "        if Sn is None or Sn1 is None or Sn2 is None:\n",
    "            print(\"Convergence not achieved for Aitken's process.\")\n",
    "            return None\n",
    "        val = Sn - combo\n",
    "        dif = abs(exact - val)\n",
    "        reldif = abs(dif/exact)\n",
    "     \n",
    "        if dif <= error or reldif <= error:\n",
    "            print(f'The number of terms needed for defined convergence for Aitkens process was:{j}')\n",
    "            return #val\n",
    "\n",
    "Sum(3000000)\n",
    "AitkenSum(300000)"
   ]
  },
  {
   "cell_type": "code",
   "execution_count": 67,
   "metadata": {},
   "outputs": [
    {
     "name": "stderr",
     "output_type": "stream",
     "text": [
      "<ipython-input-67-e025e7a14d12>:18: IntegrationWarning: The maximum number of subdivisions (50) has been achieved.\n",
      "  If increasing the limit yields no improvement it is advised to analyze \n",
      "  the integrand in order to determine the difficulties.  If the position of a \n",
      "  local difficulty can be determined (singularity, discontinuity) one will \n",
      "  probably gain from splitting up the interval and calling the integrator \n",
      "  on the subranges.  Perhaps a special-purpose integrator should be used.\n",
      "  integral, _ = quad(func, lower, upper)\n"
     ]
    },
    {
     "name": "stdout",
     "output_type": "stream",
     "text": [
      "i1_exact: 7.954926521012846, i1_approx: 7.954926521012847\n",
      "i2_exact: 0.8707026562079591, i2_approx: 0.870702656207959\n",
      "i3_exact: 0.8707026562079591, i3_approx: 0.8707026223557608\n"
     ]
    },
    {
     "data": {
      "image/png": "[encoded data removed]",
      "text/plain": [
       "<Figure size 432x288 with 1 Axes>"
      ]
     },
     "metadata": {
      "needs_background": "light"
     },
     "output_type": "display_data"
    }
   ],
   "source": [
    "import numpy as np\n",
    "import matplotlib.pyplot as plt\n",
    "from scipy.integrate import quad\n",
    "\n",
    "# Define the functions\n",
    "def f(x):\n",
    "    return np.exp(-np.cos(x))\n",
    "\n",
    "def g(x):\n",
    "    return np.where(np.logical_and(x >= -1, x <= 1), f(x), 0)\n",
    "\n",
    "# Define the exact integrals\n",
    "i1_exact = 7.9549265210128452745132196653294\n",
    "i23_exact = 0.87070265620795901020832433774759\n",
    "\n",
    "# Function to compute integrals using black-box integration routine\n",
    "def compute_integral(func, lower, upper):\n",
    "    integral, _ = quad(func, lower, upper)\n",
    "    return integral\n",
    "\n",
    "# Compute integrals using black-box integration routine\n",
    "i1_approx = compute_integral(f, -np.pi, np.pi)\n",
    "i2_approx = compute_integral(f, -1, 1)\n",
    "i3_approx = compute_integral(g, -np.pi, np.pi)\n",
    "\n",
    "# Print the results\n",
    "print(f\"i1_exact: {i1_exact}, i1_approx: {i1_approx}\")\n",
    "print(f\"i2_exact: {i23_exact}, i2_approx: {i2_approx}\")\n",
    "print(f\"i3_exact: {i23_exact}, i3_approx: {i3_approx}\")\n",
    "\n",
    "import numpy as np\n",
    "\n",
    "# Function to compute integral using the trapezoid rule\n",
    "def trapezoid_rule(func, lower, upper, N):\n",
    "    h = (upper - lower) / N  # Width of each subinterval\n",
    "    x = np.linspace(lower, upper, N+1)  # Points at which to evaluate the function\n",
    "    y = func(x)  # Function values at the points\n",
    "    \n",
    "    # Compute the integral using the trapezoid rule formula\n",
    "    integral = h * (np.sum(y) - 0.5 * (y[0] + y[-1]))\n",
    "    \n",
    "    return integral, h\n",
    "\n",
    "# Compute integrals using the trapezoid rule for different numbers of points (N)\n",
    "N_values = [2**i for i in range(1, 11)]  # N = 2, 4, 8, ..., 1024\n",
    "\n",
    "# Lists to store errors and step sizes\n",
    "errors_i1 = []\n",
    "errors_i2 = []\n",
    "errors_i3 = []\n",
    "h_values = []\n",
    "\n",
    "# Compute errors for each integral and store the results\n",
    "for N in N_values:\n",
    "    # Compute integrals using the trapezoid rule\n",
    "    i1_approx, h1 = trapezoid_rule(f, -np.pi, np.pi, N)\n",
    "    i2_approx, h2 = trapezoid_rule(f, -1, 1, N)\n",
    "    i3_approx, h3 = trapezoid_rule(g, -np.pi, np.pi, N)\n",
    "    \n",
    "    # Calculate errors\n",
    "    error_i1 = np.abs(i1_exact - i1_approx)\n",
    "    error_i2 = np.abs(i23_exact - i2_approx)\n",
    "    error_i3 = np.abs(i23_exact - i3_approx)\n",
    "    \n",
    "    # Store errors and step sizes\n",
    "    errors_i1.append(error_i1)\n",
    "    errors_i2.append(error_i2)\n",
    "    errors_i3.append(error_i3)\n",
    "    h_values.append(h1)  # Assuming h is the same for all integrals\n",
    "\n",
    "# Plot errors versus step sizes on a log-log scale\n",
    "plt.figure()\n",
    "plt.loglog(h_values, errors_i1, label='i1')\n",
    "plt.loglog(h_values, errors_i2, label='i2')\n",
    "plt.loglog(h_values, errors_i3, label='i3')\n",
    "plt.title('Error vs. Step Size (Trapezoid Rule)')\n",
    "plt.xlabel('Step Size (h)')\n",
    "plt.ylabel('Error')\n",
    "plt.legend()\n",
    "plt.grid(True)\n",
    "plt.show()"
   ]
  },
  {
   "cell_type": "code",
   "execution_count": 69,
   "metadata": {},
   "outputs": [
    {
     "name": "stdout",
     "output_type": "stream",
     "text": [
      "(7.954926521012844, 0.006135923151542565)\n",
      "(7.954926521012847, 0.006135923151542565)\n"
     ]
    }
   ],
   "source": [
    "def Trap(func, lower, upper, N):\n",
    "    b = upper\n",
    "    a = lower \n",
    "    h = (b - a)/N\n",
    "    val = 0 \n",
    "    for i in range(N + 1):\n",
    "        if i == 0 or i ==N:\n",
    "            val += .5*func(a + i*h)\n",
    "        else:\n",
    "            val += func(a + i*h)\n",
    "    final = h*val\n",
    "\n",
    "    return final,h\n",
    "\n",
    "def trapezoid_rule(func, lower, upper, N):\n",
    "    h = (upper - lower) / N  # Width of each subinterval\n",
    "    x = np.linspace(lower, upper, N+1)  # Points at which to evaluate the function\n",
    "    y = func(x)  # Function values at the points\n",
    "    \n",
    "    # Compute the integral using the trapezoid rule formula\n",
    "    integral = h * (np.sum(y) - 0.5 * (y[0] + y[-1]))\n",
    "    \n",
    "    return integral, h\n",
    "\n",
    "print(trapezoid_rule(f, -np.pi, np.pi, N))\n",
    "print(Trap(f, -np.pi, np.pi, N))\n"
   ]
  }
 ],
 "metadata": {
  "kernelspec": {
   "display_name": "base",
   "language": "python",
   "name": "python3"
  },
  "language_info": {
   "codemirror_mode": {
    "name": "ipython",
    "version": 3
   },
   "file_extension": ".py",
   "mimetype": "text/x-python",
   "name": "python",
   "nbconvert_exporter": "python",
   "pygments_lexer": "ipython3",
   "version": "3.8.5"
  }
 },
 "nbformat": 4,
 "nbformat_minor": 2
}
