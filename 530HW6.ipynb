{
 "cells": [
  {
   "cell_type": "markdown",
   "metadata": {},
   "source": [
    "### 530 HW6- Functions \n",
    "Emma Rasmussen \n",
    "\n",
    "#### Problem 1- Expanding and Interpolating Functions \n",
    "##### Parts a & b"
   ]
  },
  {
   "cell_type": "code",
   "execution_count": 42,
   "metadata": {},
   "outputs": [],
   "source": [
    "import numpy as np\n",
    "import time\n",
    "\n",
    "def TaylorSin(x, N):\n",
    "    sinval = 0\n",
    "    for i in range(N):\n",
    "        term = ((-1)**(i+2))*(x**(2*i + 1)) / np.math.factorial(2*i + 1)\n",
    "        sinval += term\n",
    "\n",
    "    return sinval\n",
    "\n",
    "def RMSE(act, pred):\n",
    "    rmse = np.sqrt(np.mean((np.subtract(act,pred))**2))\n",
    "\n",
    "    return rmse\n",
    "\n",
    "def Interp(x,xvals,yvals):\n",
    "    # np.random.seed(27)\n",
    "    i = np.searchsorted(xvals,x)\n",
    "    if i == 0:\n",
    "        return yvals[0]\n",
    "    elif i == len(xvals):\n",
    "        return yvals[-1]\n",
    "    x0,x1 = xvals[i-1],xvals[i]\n",
    "    y0,y1 = yvals[i-1],yvals[i]\n",
    "    interpval = y0 +(y1 - y0)*(x - x0)/(x1 - x0)\n",
    "\n",
    "    return interpval\n",
    "\n",
    "def AccSpeed(N):\n",
    "    #The following line if we want the same random vector every time\n",
    "    np.random.seed(27)\n",
    "    xvals = np.random.uniform(0,2*np.pi,10**6)\n",
    "    xn = np.linspace(0,2*np.pi, 10**6)\n",
    "    yvals = np.sin(xn)\n",
    "    apprxvec = []\n",
    "    actualvec = []\n",
    "    apprxveci = []\n",
    "    actualveci = []\n",
    "\n",
    "    # for part a\n",
    "    st = time.time()\n",
    "    for i in range(len(xvals)):\n",
    "        apprx = TaylorSin(xvals[i], N)\n",
    "        act = np.sin(xvals[i])\n",
    "        apprxvec.append(apprx)\n",
    "        actualvec.append(act)\n",
    "    et = time.time()\n",
    "    tt = et - st \n",
    "\n",
    "    # for part b\n",
    "    sti = time.time()\n",
    "    for i in range(len(xn)):\n",
    "        apprx = Interp(xvals[i],xn, yvals)\n",
    "        act = yvals[i]\n",
    "        apprxveci.append(apprx)\n",
    "        actualveci.append(act)\n",
    "    eti = time.time()\n",
    "    tti = eti - sti \n",
    "    rmse = RMSE(apprxvec, actualvec)\n",
    "    rmsei = RMSE(apprxveci, actualveci)\n",
    "\n",
    "    #return rmse, tt\n",
    "\n",
    "    print(f'The rmse for N={N} was: {rmse}')\n",
    "    print(f'The time it took for N={N} was: {tt}s')\n",
    "\n",
    "    print(f'The rmse for interpolation for N={N} was: {rmsei}')\n",
    "    print(f'The time it took for interpolation for N={N} was: {tti}s')\n",
    "\n",
    "#Testing for different N\n",
    "#AccSpeed(5)\n",
    "#AccSpeed(7)\n",
    "#AccSpeed(9)"
   ]
  },
  {
   "cell_type": "markdown",
   "metadata": {},
   "source": [
    "#### Problem 2\n",
    "##### Part a"
   ]
  },
  {
   "cell_type": "code",
   "execution_count": 43,
   "metadata": {},
   "outputs": [
    {
     "name": "stdout",
     "output_type": "stream",
     "text": [
      "The difference between i1 and the actual value is:-8.881784197001252e-16\n",
      "The difference between i2 and the actual value is:1.1102230246251565e-16\n",
      "The difference between i3 and the actual value is:-2.5360991084966145e-10\n"
     ]
    }
   ],
   "source": [
    "from scipy.integrate import quad\n",
    "\n",
    "#For part a, the blackbox python function\n",
    "def f(x):\n",
    "    return np.exp(-np.cos(x))\n",
    "\n",
    "def g(x):\n",
    "    if -1 <= x <= 1:\n",
    "        return f(x)\n",
    "    else: \n",
    "        return 0\n",
    "\n",
    "i1 = 7.9549265210128452745132196653294\n",
    "i23 = .87070265620795901020832433774759\n",
    "val1,_ = quad(f, -np.pi, np.pi, limit=100)\n",
    "val2,_ = quad(f, -1, 1, limit=100)\n",
    "val3,_ = quad(g, -np.pi, np.pi, limit=100)\n",
    "print(f'The difference between i1 and the actual value is:{i1-val1}')\n",
    "print(f'The difference between i2 and the actual value is:{i23-val2}')\n",
    "print(f'The difference between i3 and the actual value is:{i23-val3}')"
   ]
  },
  {
   "cell_type": "markdown",
   "metadata": {},
   "source": [
    "According to python documentation, this function is using a different series of functions for definite vs indefinite integrals. I will only descirbe the definite since that's what we used. It uses a Clenshaw-Curtis method. First, it computes the Chebyshev moments, then, it makes an integer array with the length of whatever you defined the limit as (I did 100). Then, it makes a subinterval for each moment. Then, it makes a rank 2 array with the moments, which it passes on to an integration by using the moments and subdivided array. \n",
    "\n",
    "#### Part b"
   ]
  },
  {
   "cell_type": "code",
   "execution_count": 44,
   "metadata": {},
   "outputs": [
    {
     "data": {
      "text/plain": [
       "[]"
      ]
     },
     "execution_count": 44,
     "metadata": {},
     "output_type": "execute_result"
    },
    {
     "data": {
      "image/png": "[encoded data removed]",
      "text/plain": [
       "<Figure size 432x288 with 1 Axes>"
      ]
     },
     "metadata": {
      "needs_background": "light"
     },
     "output_type": "display_data"
    },
    {
     "name": "stderr",
     "output_type": "stream",
     "text": [
      "c:\\Users\\rasmu\\anaconda3\\lib\\site-packages\\ipykernel\\pylab\\backend_inline.py:183: UserWarning: Data has no positive values, and therefore cannot be log-scaled.\n",
      "  for label in axis.get_ticklabels()])\n"
     ]
    },
    {
     "data": {
      "image/png": "[encoded data removed]",
      "text/plain": [
       "<Figure size 432x288 with 1 Axes>"
      ]
     },
     "metadata": {
      "needs_background": "light"
     },
     "output_type": "display_data"
    },
    {
     "data": {
      "image/png": "[encoded data removed]",
      "text/plain": [
       "<Figure size 432x288 with 1 Axes>"
      ]
     },
     "metadata": {
      "needs_background": "light"
     },
     "output_type": "display_data"
    }
   ],
   "source": [
    "import matplotlib.pyplot as plt\n",
    "\n",
    "def Trapf(lower, upper, N):\n",
    "    b = upper\n",
    "    a = lower \n",
    "    h = (b - a)/N\n",
    "    val = 0 \n",
    "    for i in range(N + 1):\n",
    "        if i == 0 or i ==N:\n",
    "            val += .5*f(a + i*h)\n",
    "        else:\n",
    "            val += f(a + i*h)\n",
    "    final = h*val\n",
    "\n",
    "    return final,h\n",
    "\n",
    "def Trapg(lower, upper, N):\n",
    "    b = upper\n",
    "    a = lower \n",
    "    h = (b - a)/N\n",
    "    val = 0 \n",
    "    for i in range(N + 1):\n",
    "        if i == 0 or i ==N:\n",
    "            val += .5*g(a + i*h)\n",
    "        else:\n",
    "            val += g(a + i*h)\n",
    "    final = h*val\n",
    "\n",
    "    return final,h\n",
    "\n",
    "def Plots(Nvec, Errvec, I):\n",
    "    plt.figure()\n",
    "    plt.loglog(Nvec,Errvec)\n",
    "    plt.title(f'h vs Err for i{I}')\n",
    "    plt.xlabel('h')\n",
    "    plt.ylabel('Err')\n",
    "    return plt.plot()\n",
    "  \n",
    "N = [2**i for i in range(11)]\n",
    "\n",
    "err1vec = []\n",
    "err2vec = []\n",
    "err3vec = []\n",
    "h1vec = []\n",
    "h2vec = []\n",
    "h3vec = []\n",
    "\n",
    "for j in range(len(N)):\n",
    "    val1, h1 = Trapf(-np.pi, np.pi, N[j])\n",
    "    val2, h2 = Trapf(-1, 1, N[j])\n",
    "    val3, h3 = Trapg(-np.pi, np.pi, N[j])\n",
    "    err1 = i - val1 \n",
    "    err1vec.append(err1)\n",
    "    h1vec.append(h1)\n",
    "    err2 = i23 - val2 \n",
    "    err2vec.append(err2)\n",
    "    h2vec.append(h2)\n",
    "    err3 = i23 - val3 \n",
    "    err3vec.append(err3)\n",
    "    h3vec.append(h3)\n",
    " \n",
    "Plots(h1vec, err1vec, 1)\n",
    "Plots(h2vec, err2vec, 2)\n",
    "Plots(h3vec, err3vec, 3)"
   ]
  },
  {
   "cell_type": "markdown",
   "metadata": {},
   "source": [
    "### Problem 3\n",
    "#### Part a\n",
    "The optimal abcissas are the points that are the roots of the highest order legendre polynomials. The weights are chosen so that the integral over the polynomials is exact. In other words, you want the weight to be orthogonal to the function. For this integral, we could calculate them like so: "
   ]
  },
  {
   "cell_type": "code",
   "execution_count": 53,
   "metadata": {},
   "outputs": [
    {
     "name": "stdout",
     "output_type": "stream",
     "text": [
      "The optimal abscissas are:[0.14737235 0.72497071 1.57079633 2.41662194 2.9942203 ]\n",
      "The optimal weights are:[1.94296021 2.32262448 2.4644049  2.32262448 1.94296021]\n"
     ]
    }
   ],
   "source": [
    "from scipy.special import roots_legendre\n",
    "\n",
    "def OptAW(N):\n",
    "\n",
    "    absc, weight = roots_legendre(N)\n",
    "\n",
    "    optabsc = np.pi/2*(1 + absc)\n",
    "    optweight = np.pi/2*(1 + weight)\n",
    "\n",
    "    print(f'The optimal abscissas are:{optabsc}')\n",
    "    print(f'The optimal weights are:{optweight}')\n",
    "\n",
    "OptAW(5)"
   ]
  },
  {
   "cell_type": "markdown",
   "metadata": {},
   "source": [
    "#### Part b"
   ]
  },
  {
   "cell_type": "code",
   "execution_count": 54,
   "metadata": {},
   "outputs": [
    {
     "name": "stdout",
     "output_type": "stream",
     "text": [
      "Approximation of the spherical integral: 2.0943951023931904\n",
      "Exact value of the integral: 2.0943951023931953\n"
     ]
    }
   ],
   "source": [
    "def fphi(phi):\n",
    "    return np.sin(phi)**2\n",
    "\n",
    "def ftheta(theta):\n",
    "    return np.cos(theta)**2\n",
    "\n",
    "def Trapphi(N):\n",
    "    h = 2*np.pi/N\n",
    "    phivals = np.linspace(0, 2*np.pi, N+1)\n",
    "    phiint = np.sum(0.5 * h * (fphi(phivals[:-1]) + fphi(phivals[1:])))\n",
    "\n",
    "    return phiint\n",
    "\n",
    "def Sphere(Ncos, Nphi):\n",
    "    rcos, wcos = roots_legendre(Ncos)\n",
    "    intsum = 0 \n",
    "    for i in range(Ncos):\n",
    "        costheta = rcos[i]\n",
    "        costhetaw = wcos[i]\n",
    "        sintsum += costhetaw*ftheta(costheta)\n",
    "    intsum *= Trapphi(Nphi)\n",
    "\n",
    "    return intsum\n",
    "\n",
    "\n",
    "\n",
    "\n",
    "\n",
    "\n",
    "def "
   ]
  },
  {
   "cell_type": "code",
   "execution_count": 55,
   "metadata": {},
   "outputs": [
    {
     "data": {
      "text/plain": [
       "2.0943951023931953"
      ]
     },
     "execution_count": 55,
     "metadata": {},
     "output_type": "execute_result"
    }
   ],
   "source": [
    "2*np.pi/3"
   ]
  },
  {
   "cell_type": "code",
   "execution_count": null,
   "metadata": {},
   "outputs": [],
   "source": []
  }
 ],
 "metadata": {
  "kernelspec": {
   "display_name": "base",
   "language": "python",
   "name": "python3"
  },
  "language_info": {
   "codemirror_mode": {
    "name": "ipython",
    "version": 3
   },
   "file_extension": ".py",
   "mimetype": "text/x-python",
   "name": "python",
   "nbconvert_exporter": "python",
   "pygments_lexer": "ipython3",
   "version": "3.8.5"
  }
 },
 "nbformat": 4,
 "nbformat_minor": 2
}
