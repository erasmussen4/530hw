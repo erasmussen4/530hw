{
 "cells": [
  {
   "cell_type": "code",
   "execution_count": null,
   "metadata": {},
   "outputs": [],
   "source": []
  },
  {
   "cell_type": "markdown",
   "metadata": {},
   "source": [
    "### 530 HW6- Functions \n",
    "Emma Rasmussen \n",
    "\n",
    "#### Problem 1- Exoanding and Interpolating Functions \n",
    "##### Parts a & b"
   ]
  },
  {
   "cell_type": "code",
   "execution_count": 28,
   "metadata": {},
   "outputs": [],
   "source": [
    "import numpy as np\n",
    "import time\n",
    "\n",
    "def TaylorSin(x, N):\n",
    "    sinval = 0\n",
    "    for i in range(N):\n",
    "        term = ((-1)**(i+2))*(x**(2*i + 1)) / np.math.factorial(2*i + 1)\n",
    "        sinval += term\n",
    "\n",
    "    return sinval\n",
    "\n",
    "def RMSE(act, pred):\n",
    "    rmse = np.sqrt(np.mean((np.subtract(act,pred))**2))\n",
    "\n",
    "    return rmse\n",
    "\n",
    "def Interp(x,xvals,yvals):\n",
    "    # np.random.seed(27)\n",
    "    i = np.searchsorted(xvals,x)\n",
    "    if i == 0:\n",
    "        return yvals[0]\n",
    "    elif i == len(xvals):\n",
    "        return yvals[-1]\n",
    "    x0,x1 = xvals[i-1],xvals[i]\n",
    "    y0,y1 = yvals[i-1],yvals[i]\n",
    "    interpval = y0 +(y1 - y0)*(x - x0)/(x1 - x0)\n",
    "\n",
    "    return interpval\n",
    "\n",
    "def AccSpeed(N):\n",
    "    #The following line if we want the same random vector every time\n",
    "    np.random.seed(27)\n",
    "    xvals = np.random.uniform(0,2*np.pi,10**6)\n",
    "    xn = np.linspace(0,2*np.pi, 10**6)\n",
    "    yvals = np.sin(xn)\n",
    "    apprxvec = []\n",
    "    actualvec = []\n",
    "    apprxveci = []\n",
    "    actualveci = []\n",
    "\n",
    "    # for part a\n",
    "    st = time.time()\n",
    "    for i in range(len(xvals)):\n",
    "        apprx = TaylorSin(xvals[i], N)\n",
    "        act = np.sin(xvals[i])\n",
    "        apprxvec.append(apprx)\n",
    "        actualvec.append(act)\n",
    "    et = time.time()\n",
    "    tt = et - st \n",
    "\n",
    "    # for part b\n",
    "    sti = time.time()\n",
    "    for i in range(len(xn)):\n",
    "        apprx = Interp(xvals[i],xn, yvals)\n",
    "        act = yvals[i]\n",
    "        apprxveci.append(apprx)\n",
    "        actualveci.append(act)\n",
    "    eti = time.time()\n",
    "    tti = eti - sti \n",
    "    rmse = RMSE(apprxvec, actualvec)\n",
    "    rmsei = RMSE(apprxveci, actualveci)\n",
    "\n",
    "    #return rmse, tt\n",
    "\n",
    "    print(f'The rmse for N={N} was: {rmse}')\n",
    "    print(f'The time it took for N={N} was: {tt}s')\n",
    "\n",
    "    print(f'The rmse for interpolation for N={N} was: {rmsei}')\n",
    "    print(f'The time it took for interpolation for N={N} was: {tti}s')\n",
    "\n",
    "#Testing for different N\n",
    "#AccSpeed(5)\n",
    "#AccSpeed(7)\n",
    "#AccSpeed(9)"
   ]
  },
  {
   "cell_type": "markdown",
   "metadata": {},
   "source": [
    "#### Problem 2\n",
    "##### Part a"
   ]
  },
  {
   "cell_type": "code",
   "execution_count": 58,
   "metadata": {},
   "outputs": [
    {
     "name": "stdout",
     "output_type": "stream",
     "text": [
      "The difference between i1 and the actual value is:-8.881784197001252e-16\n",
      "The difference between i2 and the actual value is:1.1102230246251565e-16\n",
      "The difference between i3 and the actual value is:-2.5360991084966145e-10\n"
     ]
    }
   ],
   "source": [
    "from scipy.integrate import quad\n",
    "\n",
    "#For part a, the blackbox python function\n",
    "def f(x):\n",
    "    return np.exp(-np.cos(x))\n",
    "\n",
    "def g(x):\n",
    "    if -1 <= x <= 1:\n",
    "        return f(x)\n",
    "    else: \n",
    "        return 0\n",
    "\n",
    "i1 = 7.9549265210128452745132196653294\n",
    "i23 = .87070265620795901020832433774759\n",
    "val1,_ = quad(f, -np.pi, np.pi, limit=100)\n",
    "val2,_ = quad(f, -1, 1, limit=100)\n",
    "val3,_ = quad(g, -np.pi, np.pi, limit=100)\n",
    "print(f'The difference between i1 and the actual value is:{i1-val1}')\n",
    "print(f'The difference between i2 and the actual value is:{i23-val2}')\n",
    "print(f'The difference between i3 and the actual value is:{i23-val3}')"
   ]
  },
  {
   "cell_type": "markdown",
   "metadata": {},
   "source": [
    "According to python documentation, this function is using a different series of functions for definite vs indefinite integrals. I will only descirbe the definite since that's what we used. It uses a Clenshaw-Curtis method. First, it computes the Chebyshev moments, then, it makes an integer array with the length of whatever you defined the limit as (I did 100). Then, it makes a subinterval for each moment. Then, it makes a rank 2 array with the moments, which it passes on to an integration by using the moments and subdivided array. \n",
    "\n",
    "#### Part b"
   ]
  },
  {
   "cell_type": "code",
   "execution_count": 78,
   "metadata": {},
   "outputs": [
    {
     "name": "stdout",
     "output_type": "stream",
     "text": [
      "0.0\n",
      "0.0\n",
      "0.5778636748954609\n",
      "1.0634423267489395\n",
      "0.8435053600599819\n",
      "0.965315134143411\n",
      "0.9066913881260548\n",
      "0.8779531583344803\n",
      "0.8637276610136758\n",
      "0.8708776638031507\n",
      "0.867311808717691\n"
     ]
    },
    {
     "ename": "ValueError",
     "evalue": "x and y must have same first dimension, but have shapes (1,) and (11,)",
     "output_type": "error",
     "traceback": [
      "\u001b[1;31m---------------------------------------------------------------------------\u001b[0m",
      "\u001b[1;31mValueError\u001b[0m                                Traceback (most recent call last)",
      "\u001b[1;32m<ipython-input-78-d18d18ae24a1>\u001b[0m in \u001b[0;36m<module>\u001b[1;34m\u001b[0m\n\u001b[0;32m     64\u001b[0m     \u001b[0mprint\u001b[0m\u001b[1;33m(\u001b[0m\u001b[0mval3\u001b[0m\u001b[1;33m)\u001b[0m\u001b[1;33m\u001b[0m\u001b[1;33m\u001b[0m\u001b[0m\n\u001b[0;32m     65\u001b[0m \u001b[1;33m\u001b[0m\u001b[0m\n\u001b[1;32m---> 66\u001b[1;33m \u001b[0mPlots\u001b[0m\u001b[1;33m(\u001b[0m\u001b[0mh1\u001b[0m\u001b[1;33m,\u001b[0m \u001b[0merr1vec\u001b[0m\u001b[1;33m,\u001b[0m \u001b[1;36m1\u001b[0m\u001b[1;33m)\u001b[0m\u001b[1;33m\u001b[0m\u001b[1;33m\u001b[0m\u001b[0m\n\u001b[0m\u001b[0;32m     67\u001b[0m \u001b[0mPlots\u001b[0m\u001b[1;33m(\u001b[0m\u001b[0mh2\u001b[0m\u001b[1;33m,\u001b[0m \u001b[0merr2vec\u001b[0m\u001b[1;33m,\u001b[0m \u001b[1;36m2\u001b[0m\u001b[1;33m)\u001b[0m\u001b[1;33m\u001b[0m\u001b[1;33m\u001b[0m\u001b[0m\n\u001b[0;32m     68\u001b[0m \u001b[0mPlots\u001b[0m\u001b[1;33m(\u001b[0m\u001b[0mh3\u001b[0m\u001b[1;33m,\u001b[0m \u001b[0merr3vec\u001b[0m\u001b[1;33m,\u001b[0m \u001b[1;36m3\u001b[0m\u001b[1;33m)\u001b[0m\u001b[1;33m\u001b[0m\u001b[1;33m\u001b[0m\u001b[0m\n",
      "\u001b[1;32m<ipython-input-78-d18d18ae24a1>\u001b[0m in \u001b[0;36mPlots\u001b[1;34m(Nvec, Errvec, I)\u001b[0m\n\u001b[0;32m     31\u001b[0m \u001b[1;32mdef\u001b[0m \u001b[0mPlots\u001b[0m\u001b[1;33m(\u001b[0m\u001b[0mNvec\u001b[0m\u001b[1;33m,\u001b[0m \u001b[0mErrvec\u001b[0m\u001b[1;33m,\u001b[0m \u001b[0mI\u001b[0m\u001b[1;33m)\u001b[0m\u001b[1;33m:\u001b[0m\u001b[1;33m\u001b[0m\u001b[1;33m\u001b[0m\u001b[0m\n\u001b[0;32m     32\u001b[0m     \u001b[0mplt\u001b[0m\u001b[1;33m.\u001b[0m\u001b[0mfigure\u001b[0m\u001b[1;33m(\u001b[0m\u001b[1;33m)\u001b[0m\u001b[1;33m\u001b[0m\u001b[1;33m\u001b[0m\u001b[0m\n\u001b[1;32m---> 33\u001b[1;33m     \u001b[0mplt\u001b[0m\u001b[1;33m.\u001b[0m\u001b[0mloglog\u001b[0m\u001b[1;33m(\u001b[0m\u001b[0mNvec\u001b[0m\u001b[1;33m,\u001b[0m\u001b[0mErrvec\u001b[0m\u001b[1;33m)\u001b[0m\u001b[1;33m\u001b[0m\u001b[1;33m\u001b[0m\u001b[0m\n\u001b[0m\u001b[0;32m     34\u001b[0m     \u001b[0mplt\u001b[0m\u001b[1;33m.\u001b[0m\u001b[0mtitle\u001b[0m\u001b[1;33m(\u001b[0m\u001b[1;34mf'N vs Err for i{I}'\u001b[0m\u001b[1;33m)\u001b[0m\u001b[1;33m\u001b[0m\u001b[1;33m\u001b[0m\u001b[0m\n\u001b[0;32m     35\u001b[0m     \u001b[0mplt\u001b[0m\u001b[1;33m.\u001b[0m\u001b[0mxlabel\u001b[0m\u001b[1;33m(\u001b[0m\u001b[1;34m'N'\u001b[0m\u001b[1;33m)\u001b[0m\u001b[1;33m\u001b[0m\u001b[1;33m\u001b[0m\u001b[0m\n",
      "\u001b[1;32mc:\\Users\\rasmu\\anaconda3\\lib\\site-packages\\matplotlib\\pyplot.py\u001b[0m in \u001b[0;36mloglog\u001b[1;34m(*args, **kwargs)\u001b[0m\n\u001b[0;32m   2748\u001b[0m \u001b[1;33m@\u001b[0m\u001b[0m_copy_docstring_and_deprecators\u001b[0m\u001b[1;33m(\u001b[0m\u001b[0mAxes\u001b[0m\u001b[1;33m.\u001b[0m\u001b[0mloglog\u001b[0m\u001b[1;33m)\u001b[0m\u001b[1;33m\u001b[0m\u001b[1;33m\u001b[0m\u001b[0m\n\u001b[0;32m   2749\u001b[0m \u001b[1;32mdef\u001b[0m \u001b[0mloglog\u001b[0m\u001b[1;33m(\u001b[0m\u001b[1;33m*\u001b[0m\u001b[0margs\u001b[0m\u001b[1;33m,\u001b[0m \u001b[1;33m**\u001b[0m\u001b[0mkwargs\u001b[0m\u001b[1;33m)\u001b[0m\u001b[1;33m:\u001b[0m\u001b[1;33m\u001b[0m\u001b[1;33m\u001b[0m\u001b[0m\n\u001b[1;32m-> 2750\u001b[1;33m     \u001b[1;32mreturn\u001b[0m \u001b[0mgca\u001b[0m\u001b[1;33m(\u001b[0m\u001b[1;33m)\u001b[0m\u001b[1;33m.\u001b[0m\u001b[0mloglog\u001b[0m\u001b[1;33m(\u001b[0m\u001b[1;33m*\u001b[0m\u001b[0margs\u001b[0m\u001b[1;33m,\u001b[0m \u001b[1;33m**\u001b[0m\u001b[0mkwargs\u001b[0m\u001b[1;33m)\u001b[0m\u001b[1;33m\u001b[0m\u001b[1;33m\u001b[0m\u001b[0m\n\u001b[0m\u001b[0;32m   2751\u001b[0m \u001b[1;33m\u001b[0m\u001b[0m\n\u001b[0;32m   2752\u001b[0m \u001b[1;33m\u001b[0m\u001b[0m\n",
      "\u001b[1;32mc:\\Users\\rasmu\\anaconda3\\lib\\site-packages\\matplotlib\\axes\\_axes.py\u001b[0m in \u001b[0;36mloglog\u001b[1;34m(self, *args, **kwargs)\u001b[0m\n\u001b[0;32m   1866\u001b[0m                        'basey', 'subsy', 'nonposy']}\n\u001b[0;32m   1867\u001b[0m         \u001b[0mself\u001b[0m\u001b[1;33m.\u001b[0m\u001b[0mset_yscale\u001b[0m\u001b[1;33m(\u001b[0m\u001b[1;34m'log'\u001b[0m\u001b[1;33m,\u001b[0m \u001b[1;33m**\u001b[0m\u001b[0mdy\u001b[0m\u001b[1;33m)\u001b[0m\u001b[1;33m\u001b[0m\u001b[1;33m\u001b[0m\u001b[0m\n\u001b[1;32m-> 1868\u001b[1;33m         return self.plot(\n\u001b[0m\u001b[0;32m   1869\u001b[0m             *args, **{k: v for k, v in kwargs.items() if k not in {*dx, *dy}})\n\u001b[0;32m   1870\u001b[0m \u001b[1;33m\u001b[0m\u001b[0m\n",
      "\u001b[1;32mc:\\Users\\rasmu\\anaconda3\\lib\\site-packages\\matplotlib\\axes\\_axes.py\u001b[0m in \u001b[0;36mplot\u001b[1;34m(self, scalex, scaley, data, *args, **kwargs)\u001b[0m\n\u001b[0;32m   1741\u001b[0m         \"\"\"\n\u001b[0;32m   1742\u001b[0m         \u001b[0mkwargs\u001b[0m \u001b[1;33m=\u001b[0m \u001b[0mcbook\u001b[0m\u001b[1;33m.\u001b[0m\u001b[0mnormalize_kwargs\u001b[0m\u001b[1;33m(\u001b[0m\u001b[0mkwargs\u001b[0m\u001b[1;33m,\u001b[0m \u001b[0mmlines\u001b[0m\u001b[1;33m.\u001b[0m\u001b[0mLine2D\u001b[0m\u001b[1;33m)\u001b[0m\u001b[1;33m\u001b[0m\u001b[1;33m\u001b[0m\u001b[0m\n\u001b[1;32m-> 1743\u001b[1;33m         \u001b[0mlines\u001b[0m \u001b[1;33m=\u001b[0m \u001b[1;33m[\u001b[0m\u001b[1;33m*\u001b[0m\u001b[0mself\u001b[0m\u001b[1;33m.\u001b[0m\u001b[0m_get_lines\u001b[0m\u001b[1;33m(\u001b[0m\u001b[1;33m*\u001b[0m\u001b[0margs\u001b[0m\u001b[1;33m,\u001b[0m \u001b[0mdata\u001b[0m\u001b[1;33m=\u001b[0m\u001b[0mdata\u001b[0m\u001b[1;33m,\u001b[0m \u001b[1;33m**\u001b[0m\u001b[0mkwargs\u001b[0m\u001b[1;33m)\u001b[0m\u001b[1;33m]\u001b[0m\u001b[1;33m\u001b[0m\u001b[1;33m\u001b[0m\u001b[0m\n\u001b[0m\u001b[0;32m   1744\u001b[0m         \u001b[1;32mfor\u001b[0m \u001b[0mline\u001b[0m \u001b[1;32min\u001b[0m \u001b[0mlines\u001b[0m\u001b[1;33m:\u001b[0m\u001b[1;33m\u001b[0m\u001b[1;33m\u001b[0m\u001b[0m\n\u001b[0;32m   1745\u001b[0m             \u001b[0mself\u001b[0m\u001b[1;33m.\u001b[0m\u001b[0madd_line\u001b[0m\u001b[1;33m(\u001b[0m\u001b[0mline\u001b[0m\u001b[1;33m)\u001b[0m\u001b[1;33m\u001b[0m\u001b[1;33m\u001b[0m\u001b[0m\n",
      "\u001b[1;32mc:\\Users\\rasmu\\anaconda3\\lib\\site-packages\\matplotlib\\axes\\_base.py\u001b[0m in \u001b[0;36m__call__\u001b[1;34m(self, data, *args, **kwargs)\u001b[0m\n\u001b[0;32m    271\u001b[0m                 \u001b[0mthis\u001b[0m \u001b[1;33m+=\u001b[0m \u001b[0margs\u001b[0m\u001b[1;33m[\u001b[0m\u001b[1;36m0\u001b[0m\u001b[1;33m]\u001b[0m\u001b[1;33m,\u001b[0m\u001b[1;33m\u001b[0m\u001b[1;33m\u001b[0m\u001b[0m\n\u001b[0;32m    272\u001b[0m                 \u001b[0margs\u001b[0m \u001b[1;33m=\u001b[0m \u001b[0margs\u001b[0m\u001b[1;33m[\u001b[0m\u001b[1;36m1\u001b[0m\u001b[1;33m:\u001b[0m\u001b[1;33m]\u001b[0m\u001b[1;33m\u001b[0m\u001b[1;33m\u001b[0m\u001b[0m\n\u001b[1;32m--> 273\u001b[1;33m             \u001b[1;32myield\u001b[0m \u001b[1;32mfrom\u001b[0m \u001b[0mself\u001b[0m\u001b[1;33m.\u001b[0m\u001b[0m_plot_args\u001b[0m\u001b[1;33m(\u001b[0m\u001b[0mthis\u001b[0m\u001b[1;33m,\u001b[0m \u001b[0mkwargs\u001b[0m\u001b[1;33m)\u001b[0m\u001b[1;33m\u001b[0m\u001b[1;33m\u001b[0m\u001b[0m\n\u001b[0m\u001b[0;32m    274\u001b[0m \u001b[1;33m\u001b[0m\u001b[0m\n\u001b[0;32m    275\u001b[0m     \u001b[1;32mdef\u001b[0m \u001b[0mget_next_color\u001b[0m\u001b[1;33m(\u001b[0m\u001b[0mself\u001b[0m\u001b[1;33m)\u001b[0m\u001b[1;33m:\u001b[0m\u001b[1;33m\u001b[0m\u001b[1;33m\u001b[0m\u001b[0m\n",
      "\u001b[1;32mc:\\Users\\rasmu\\anaconda3\\lib\\site-packages\\matplotlib\\axes\\_base.py\u001b[0m in \u001b[0;36m_plot_args\u001b[1;34m(self, tup, kwargs)\u001b[0m\n\u001b[0;32m    397\u001b[0m \u001b[1;33m\u001b[0m\u001b[0m\n\u001b[0;32m    398\u001b[0m         \u001b[1;32mif\u001b[0m \u001b[0mx\u001b[0m\u001b[1;33m.\u001b[0m\u001b[0mshape\u001b[0m\u001b[1;33m[\u001b[0m\u001b[1;36m0\u001b[0m\u001b[1;33m]\u001b[0m \u001b[1;33m!=\u001b[0m \u001b[0my\u001b[0m\u001b[1;33m.\u001b[0m\u001b[0mshape\u001b[0m\u001b[1;33m[\u001b[0m\u001b[1;36m0\u001b[0m\u001b[1;33m]\u001b[0m\u001b[1;33m:\u001b[0m\u001b[1;33m\u001b[0m\u001b[1;33m\u001b[0m\u001b[0m\n\u001b[1;32m--> 399\u001b[1;33m             raise ValueError(f\"x and y must have same first dimension, but \"\n\u001b[0m\u001b[0;32m    400\u001b[0m                              f\"have shapes {x.shape} and {y.shape}\")\n\u001b[0;32m    401\u001b[0m         \u001b[1;32mif\u001b[0m \u001b[0mx\u001b[0m\u001b[1;33m.\u001b[0m\u001b[0mndim\u001b[0m \u001b[1;33m>\u001b[0m \u001b[1;36m2\u001b[0m \u001b[1;32mor\u001b[0m \u001b[0my\u001b[0m\u001b[1;33m.\u001b[0m\u001b[0mndim\u001b[0m \u001b[1;33m>\u001b[0m \u001b[1;36m2\u001b[0m\u001b[1;33m:\u001b[0m\u001b[1;33m\u001b[0m\u001b[1;33m\u001b[0m\u001b[0m\n",
      "\u001b[1;31mValueError\u001b[0m: x and y must have same first dimension, but have shapes (1,) and (11,)"
     ]
    },
    {
     "data": {
      "image/png": "[encoded data removed]",
      "text/plain": [
       "<Figure size 432x288 with 1 Axes>"
      ]
     },
     "metadata": {
      "needs_background": "light"
     },
     "output_type": "display_data"
    }
   ],
   "source": [
    "import matplotlib.pyplot as plt\n",
    "\n",
    "def Trapf(lower, upper, N):\n",
    "    a = lower\n",
    "    b = upper \n",
    "    ksum = 0 \n",
    "    k = np.arange(1, N-1, 1)\n",
    "    for i in range(len(k)):\n",
    "        x = a + k[i]*(b - a)/N\n",
    "        y = f(x)\n",
    "        ksum += y\n",
    "    val = ((b - a)/N)*(((f(a) + f(b))/2) + ksum)\n",
    "    h = 2*(b - a)/N\n",
    "\n",
    "    return val,h\n",
    "\n",
    "def Trapg(lower, upper, N):\n",
    "    a = lower\n",
    "    b = upper \n",
    "    ksum = 0 \n",
    "    k = np.arange(1, N-1, 1)\n",
    "    for i in range(len(k)):\n",
    "        x = a + k[i]*(b - a)/N\n",
    "        y = g(x)\n",
    "        ksum += y\n",
    "        \n",
    "    val = ((b - a)/N)*(((g(a) + g(b))/2) + ksum)\n",
    "    h = 2*(b - a)/N\n",
    "\n",
    "    return val,h\n",
    "\n",
    "def Plots(Nvec, Errvec, I):\n",
    "    plt.figure()\n",
    "    plt.loglog(Nvec,Errvec)\n",
    "    plt.title(f'N vs Err for i{I}')\n",
    "    plt.xlabel('N')\n",
    "    plt.ylabel('Err')\n",
    "    plt.show\n",
    "\n",
    "N = [2**i for i in range(11)]\n",
    "\n",
    "err1vec = []\n",
    "err2vec = []\n",
    "err3vec = []\n",
    "h1vec = []\n",
    "h2vec = []\n",
    "h3vec = []\n",
    "\n",
    "\n",
    "for i in range(len(N)):\n",
    "    val1, h1 = Trapf(-np.pi, np.pi, N[i])\n",
    "    val2, h2 = Trapf(-1, 1, N[i])\n",
    "    val3, h3 = Trapg(-np.pi, np.pi, N[i])\n",
    "    err1 = i1 - val1 \n",
    "    err1vec.append(err1)\n",
    "    h1vec.append(h1)\n",
    "    err2 = i23 - val2 \n",
    "    err2vec.append(err2)\n",
    "    h2vec.append(h2)\n",
    "    err3 = i23 - val3 \n",
    "    err3vec.append(err3)\n",
    "    h3vec.append(h3)\n",
    "\n",
    "    \n",
    "    print(val3)\n",
    "\n",
    "Plots(h1, err1vec, 1)\n",
    "Plots(h2, err2vec, 2)\n",
    "Plots(h3, err3vec, 3)\n",
    "\n",
    "    #print(f'For N ={N[i]}, the value is:{val}')\n",
    "\n"
   ]
  },
  {
   "cell_type": "code",
   "execution_count": 35,
   "metadata": {},
   "outputs": [
    {
     "name": "stdout",
     "output_type": "stream",
     "text": [
      "The rmse was: 1.927248223318863\n"
     ]
    }
   ],
   "source": [
    "V= [9,2,3,4,5,4,2]\n",
    "B = [8,3,5,7,8,3,3]\n",
    "\n",
    "rmse = np.sqrt(np.mean((np.subtract(V,B))**2))\n",
    "print(f'The rmse was: {rmse}')\n",
    "\n"
   ]
  },
  {
   "cell_type": "code",
   "execution_count": null,
   "metadata": {},
   "outputs": [],
   "source": []
  }
 ],
 "metadata": {
  "kernelspec": {
   "display_name": "base",
   "language": "python",
   "name": "python3"
  },
  "language_info": {
   "codemirror_mode": {
    "name": "ipython",
    "version": 3
   },
   "file_extension": ".py",
   "mimetype": "text/x-python",
   "name": "python",
   "nbconvert_exporter": "python",
   "pygments_lexer": "ipython3",
   "version": "3.8.5"
  }
 },
 "nbformat": 4,
 "nbformat_minor": 2
}
